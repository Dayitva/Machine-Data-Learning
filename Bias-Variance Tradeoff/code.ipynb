{
 "cells": [
  {
   "cell_type": "markdown",
   "metadata": {},
   "source": [
    "# Assignment 1 (Machine, Data and Learning)\n",
    "\n",
    "## Team 41\n",
    "\n",
    "* Dayitva Goel: 2019101005\n",
    "* Prajneya Kumar: 2019114011"
   ]
  },
  {
   "cell_type": "code",
   "execution_count": null,
   "metadata": {},
   "outputs": [],
   "source": [
    "import pickle\n",
    "import numpy as np\n",
    "import matplotlib.pyplot as plt\n",
    "from sklearn.linear_model import LinearRegression\n",
    "from sklearn.preprocessing import PolynomialFeatures\n",
    "from sklearn.metrics import mean_squared_error\n",
    "\n",
    "trainFile = open('./train.pkl', 'rb')      \n",
    "train_data = pickle.load(trainFile)\n",
    "trainFile.close()\n",
    "\n",
    "X_train = []\n",
    "Y_train = []\n",
    "j = 0;\n",
    "k = int(len(train_data)/10);\n",
    "\n",
    "# np.random.shuffle(train_data)\n",
    "\n",
    "for i in range(0, 10):\n",
    "    X_train.append(train_data[j:k, 0])\n",
    "    Y_train.append(train_data[j:k, 1])\n",
    "    j += int(len(train_data)/10);\n",
    "    k += int(len(train_data)/10);\n",
    "    \n",
    "X_train = np.array(X_train)\n",
    "Y_train = np.array(Y_train)\n",
    "    \n",
    "testFile = open('./test.pkl', 'rb')      \n",
    "test_data = pickle.load(testFile)\n",
    "\n",
    "X_test = test_data[:, 0]\n",
    "Y_test = test_data[:, 1]\n",
    "\n",
    "X_test = np.array(X_test)\n",
    "Y_test = np.array(Y_test)"
   ]
  },
  {
   "cell_type": "markdown",
   "metadata": {},
   "source": [
    "# Visualising Training and Test Data"
   ]
  },
  {
   "cell_type": "code",
   "execution_count": null,
   "metadata": {},
   "outputs": [],
   "source": [
    "fig, axs = plt.subplots(5, 2, figsize=(20, 30))\n",
    "\n",
    "for i in range(10):    \n",
    "    axs.flat[i].scatter(X_train[i], Y_train[i], label='Training Data')\n",
    "    axs.flat[i].set(xlabel='X', ylabel='Y')\n",
    "    axs.flat[i].set_title('Chunk {}'.format(i+1))\n",
    "    axs.flat[i].legend()\n",
    "    \n",
    "plt.figure(figsize=(7,7))\n",
    "plt.scatter(X_test, Y_test)\n",
    "plt.xlabel('X')\n",
    "plt.ylabel('Y')\n",
    "plt.show()"
   ]
  },
  {
   "cell_type": "markdown",
   "metadata": {},
   "source": [
    "# Calculating Bias, Variance, Total Error and Irreducible Error"
   ]
  },
  {
   "cell_type": "code",
   "execution_count": null,
   "metadata": {},
   "outputs": [],
   "source": [
    "biases = []\n",
    "variances = []\n",
    "total_errors = []\n",
    "pred_array = []\n",
    "complexity = [i for i in range(1, 21)]\n",
    "\n",
    "for i in range(1, 21):\n",
    "    \n",
    "    print('Degree of polynomial:', i)\n",
    "    poly = PolynomialFeatures(degree=i)\n",
    "    x_test_poly = poly.fit_transform(X_test.reshape(-1, 1))\n",
    "    \n",
    "    predictions = []\n",
    "    totals = []\n",
    "    \n",
    "    for j in range(0, 10):\n",
    "        \n",
    "        Lreg = LinearRegression()\n",
    "        x_train_poly = poly.fit_transform(X_train[j].reshape(-1, 1))\n",
    "        \n",
    "        Lreg.fit(x_train_poly, Y_train[j])\n",
    "        \n",
    "        y_test_pred = Lreg.predict(x_test_poly)\n",
    "\n",
    "        predictions.append(y_test_pred)\n",
    "        totals.append(mean_squared_error(Y_test, y_test_pred))\n",
    "\n",
    "    predictions = np.array(predictions)\n",
    "    totals = np.array(totals)\n",
    "    \n",
    "    diff = np.abs((np.mean(predictions, 0) - Y_test))\n",
    "    bias = np.mean(diff)\n",
    "    biases.append(np.mean(np.square(diff)))\n",
    "    \n",
    "    variance = np.mean(np.mean(np.square(predictions), 0) - np.mean(predictions, 0)**2)\n",
    "    variances.append(variance)\n",
    "\n",
    "    total = np.mean(totals)\n",
    "    total_errors.append(total)\n",
    "    \n",
    "    pred_array.append(np.mean(predictions, 0))\n",
    "    \n",
    "    print('Bias:', bias)\n",
    "    print('Variance:', variance)\n",
    "    print('Total Error:', total)\n",
    "    print()\n",
    "    \n",
    "biases = np.array(biases)\n",
    "variances = np.array(variances)\n",
    "total_errors = np.array(total_errors)\n",
    "\n",
    "ie = total_errors - (biases + variances)\n",
    "    \n",
    "print('Irreducible error:')\n",
    "print(ie)"
   ]
  },
  {
   "cell_type": "markdown",
   "metadata": {},
   "source": [
    "# Bias and Variance Plots "
   ]
  },
  {
   "cell_type": "code",
   "execution_count": null,
   "metadata": {},
   "outputs": [],
   "source": [
    "plt.figure(figsize=(15,7))\n",
    "plt.plot(complexity, biases)\n",
    "plt.xlabel('Model Complexity')\n",
    "plt.ylabel('Squared Bias')\n",
    "plt.xticks(complexity)\n",
    "plt.show()\n",
    "\n",
    "plt.figure(figsize=(15,7))\n",
    "plt.plot(complexity, variances)\n",
    "plt.xlabel('Model Complexity')\n",
    "plt.ylabel('Variance')\n",
    "plt.xticks(complexity)\n",
    "plt.show()"
   ]
  },
  {
   "cell_type": "markdown",
   "metadata": {},
   "source": [
    "# Underfitting Plots"
   ]
  },
  {
   "cell_type": "code",
   "execution_count": null,
   "metadata": {},
   "outputs": [],
   "source": [
    "fig, axs = plt.subplots(1, 2, figsize=(20, 10))\n",
    "\n",
    "for i in range(2):    \n",
    "    axs.flat[i].scatter(X_test, Y_test, label='Test Data')\n",
    "    axs.flat[i].scatter(X_test, pred_array[i], label='Predicted Data')\n",
    "    axs.flat[i].set(xlabel='x', ylabel='y')\n",
    "    axs.flat[i].set_title('Degree {}'.format(i+1))\n",
    "    axs.flat[i].legend()"
   ]
  },
  {
   "cell_type": "markdown",
   "metadata": {},
   "source": [
    "# Ideal-fit Plot"
   ]
  },
  {
   "cell_type": "code",
   "execution_count": null,
   "metadata": {},
   "outputs": [],
   "source": [
    "plt.scatter(X_test, Y_test, label='Test Data')\n",
    "plt.scatter(X_test, pred_array[2], label='Predicted Data')\n",
    "plt.xlabel('X')\n",
    "plt.ylabel('Y')\n",
    "plt.title('Degree 3')\n",
    "plt.legend()\n",
    "plt.show()"
   ]
  },
  {
   "cell_type": "markdown",
   "metadata": {},
   "source": [
    "# Overfitting plots"
   ]
  },
  {
   "cell_type": "code",
   "execution_count": null,
   "metadata": {
    "scrolled": true
   },
   "outputs": [],
   "source": [
    "fig, axs = plt.subplots(5, 3, figsize=(25, 35))\n",
    "\n",
    "for i in range(0, 15):    \n",
    "    axs.flat[i].scatter(X_test, Y_test, label='Test Data')\n",
    "    axs.flat[i].scatter(X_test, pred_array[i+3], label='Predicted Data')\n",
    "    axs.flat[i].set(xlabel='X', ylabel='Y')\n",
    "    axs.flat[i].set_title('Degree {}'.format(i+4))\n",
    "    axs.flat[i].legend()\n",
    "    \n",
    "fig, axs = plt.subplots(1, 2, figsize=(25, 10))\n",
    "\n",
    "for i in range(2):    \n",
    "    axs.flat[i].scatter(X_test, Y_test, label='Test Data')\n",
    "    axs.flat[i].scatter(X_test, pred_array[i+18], label='Predicted Data')\n",
    "    axs.flat[i].set(xlabel='X', ylabel='Y')\n",
    "    axs.flat[i].set_title('Degree {}'.format(i+19))\n",
    "    axs.flat[i].legend()"
   ]
  },
  {
   "cell_type": "markdown",
   "metadata": {},
   "source": [
    "# $Bias^{2} - Variance$ Tradeoff Plot"
   ]
  },
  {
   "cell_type": "code",
   "execution_count": null,
   "metadata": {},
   "outputs": [],
   "source": [
    "plt.figure(figsize=(15,7))\n",
    "plt.plot(complexity, biases, label='Bias\\u00b2')\n",
    "plt.plot(complexity, variances, label=\"Variance\")\n",
    "plt.plot(complexity, total_errors, label=\"Total Error\")\n",
    "plt.plot(complexity, ie, label=\"Irreducible Error\")\n",
    "plt.title(\"Bias\\u00b2 vs Variance Tradeoff\")\n",
    "plt.xlabel('Model Complexity')\n",
    "plt.ylabel('Error')\n",
    "plt.xticks(complexity)\n",
    "plt.legend()\n",
    "plt.show()"
   ]
  }
 ],
 "metadata": {
  "kernelspec": {
   "display_name": "Python 3",
   "language": "python",
   "name": "python3"
  },
  "language_info": {
   "codemirror_mode": {
    "name": "ipython",
    "version": 3
   },
   "file_extension": ".py",
   "mimetype": "text/x-python",
   "name": "python",
   "nbconvert_exporter": "python",
   "pygments_lexer": "ipython3",
   "version": "3.8.5"
  }
 },
 "nbformat": 4,
 "nbformat_minor": 4
}
